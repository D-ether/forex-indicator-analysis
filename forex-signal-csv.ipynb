{
 "cells": [
  {
   "cell_type": "code",
   "execution_count": 1,
   "id": "3031818e-7abe-4ecb-a2f7-26ba8cc7d127",
   "metadata": {},
   "outputs": [],
   "source": [
    "# Imports \n",
    "import pandas as pd\n",
    "import numpy as np\n",
    "import yfinance as yf\n"
   ]
  },
  {
   "cell_type": "code",
   "execution_count": 2,
   "id": "fed7bf6b-dedd-4f99-b0b1-f0f2c29e9c9d",
   "metadata": {},
   "outputs": [],
   "source": [
    "# Fetch data function, change symbol/datetime here\n",
    "def fetch_forex_data():\n",
    "    \n",
    "    data = yf.download(tickers = 'EURUSD=X' ,period ='1mo', interval = '5m') \n",
    "    df = pd.DataFrame(data)\n",
    "    return df"
   ]
  },
  {
   "cell_type": "code",
   "execution_count": 3,
   "id": "38d3d8c2-3d69-4eba-a497-ece5f793bd00",
   "metadata": {},
   "outputs": [],
   "source": [
    "\n",
    "# Function to calculate Simple Moving Average (SMA)\n",
    "def calculate_sma(df, window):\n",
    "    return df['Close'].rolling(window=window).mean()\n",
    "\n",
    "# Function to calculate Relative Strength Index (RSI)\n",
    "def calculate_rsi(df, window):\n",
    "    delta = df['Close'].diff(1)\n",
    "    gain = (delta.where(delta > 0, 0)).rolling(window=window).mean()\n",
    "    loss = (-delta.where(delta < 0, 0)).rolling(window=window).mean()\n",
    "    rs = gain / loss\n",
    "    rsi = 100 - (100 / (1 + rs))\n",
    "    return rsi\n",
    "\n",
    "# Function to calculate Moving Average Convergence Divergence (MACD)\n",
    "def calculate_macd(df, short_window=12, long_window=26, signal_window=9):\n",
    "    short_ema = df['Close'].ewm(span=short_window, adjust=False).mean()\n",
    "    long_ema = df['Close'].ewm(span=long_window, adjust=False).mean()\n",
    "    macd = short_ema - long_ema\n",
    "    signal = macd.ewm(span=signal_window, adjust=False).mean()\n",
    "    return macd, signal\n",
    "\n",
    "# Function to generate trading signals\n",
    "def generate_signals(df):\n",
    "    df['SMA'] = calculate_sma(df, window=20)\n",
    "    df['RSI'] = calculate_rsi(df, window=14)\n",
    "    df['MACD'], df['MACD_SIGNAL'] = calculate_macd(df)\n",
    "    \n",
    "    df['Signal'] = 0\n",
    "    df['Signal'] = np.where((df['Close'] > df['SMA']) & (df['RSI'] < 70) & (df['MACD'] > df['MACD_SIGNAL']), 1, df['Signal'])\n",
    "    df['Signal'] = np.where((df['Close'] < df['SMA']) & (df['RSI'] > 30) & (df['MACD'] < df['MACD_SIGNAL']), -1, df['Signal'])\n",
    "    df['Position'] = df['Signal'].diff()\n",
    "    return df\n",
    "def test_signals(df):\n",
    "    df['Return'] = df['Close'].pct_change()\n",
    "    df['Strategy_Return'] = df['Return'] * df['Signal'].shift(1)\n",
    "    \n",
    "    df['Cumulative_Market_Return'] = (1 + df['Return']).cumprod()\n",
    "    df['Cumulative_Strategy_Return'] = (1 + df['Strategy_Return']).cumprod()\n",
    "    \n",
    "    total_market_return = df['Cumulative_Market_Return'].iloc[-1]\n",
    "    total_strategy_return = df['Cumulative_Strategy_Return'].iloc[-1]\n",
    "    \n",
    "    winning_trades = len(df[(df['Signal'] == 1) & (df['Return'] > 0)]) + len(df[(df['Signal'] == -1) & (df['Return'] < 0)])\n",
    "    losing_trades = len(df[(df['Signal'] == 1) & (df['Return'] < 0)]) + len(df[(df['Signal'] == -1) & (df['Return'] > 0)])\n",
    "    total_trades = winning_trades + losing_trades\n",
    "    \n",
    "    accuracy = winning_trades / total_trades if total_trades > 0 else 0\n",
    "    \n",
    "    return {\n",
    "        'Total Market Return': total_market_return,\n",
    "        'Total Strategy Return': total_strategy_return,\n",
    "        'Winning Trades': winning_trades,\n",
    "        'Losing Trades': losing_trades,\n",
    "        'Total Trades': total_trades,\n",
    "        'Accuracy': accuracy\n",
    "    }"
   ]
  },
  {
   "cell_type": "code",
   "execution_count": 4,
   "id": "caae036a-f935-4a16-bf03-87342554ce3b",
   "metadata": {},
   "outputs": [
    {
     "name": "stderr",
     "output_type": "stream",
     "text": [
      "[*********************100%%**********************]  1 of 1 completed"
     ]
    },
    {
     "name": "stdout",
     "output_type": "stream",
     "text": [
      "{'Total Market Return': 0.9862705400958585, 'Total Strategy Return': 1.003093346992058, 'Winning Trades': 1338, 'Losing Trades': 810, 'Total Trades': 2148, 'Accuracy': 0.6229050279329609}\n"
     ]
    },
    {
     "name": "stderr",
     "output_type": "stream",
     "text": [
      "\n"
     ]
    }
   ],
   "source": [
    "df = fetch_forex_data()\n",
    "df = generate_signals(df)\n",
    "print(test_signals(df))\n",
    "pd.DataFrame.to_csv(df, \"annotated.csv\")"
   ]
  },
  {
   "cell_type": "code",
   "execution_count": null,
   "id": "35bd82d8-1c89-4efe-9018-20014e8319cf",
   "metadata": {},
   "outputs": [],
   "source": []
  }
 ],
 "metadata": {
  "kernelspec": {
   "display_name": "Python 3 (ipykernel)",
   "language": "python",
   "name": "python3"
  },
  "language_info": {
   "codemirror_mode": {
    "name": "ipython",
    "version": 3
   },
   "file_extension": ".py",
   "mimetype": "text/x-python",
   "name": "python",
   "nbconvert_exporter": "python",
   "pygments_lexer": "ipython3",
   "version": "3.11.5"
  }
 },
 "nbformat": 4,
 "nbformat_minor": 5
}
